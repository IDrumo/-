{
  "cells": [
    {
      "cell_type": "markdown",
      "id": "24392e7b-f1b7-412c-b165-36d856f8f723",
      "metadata": {
        "id": "24392e7b-f1b7-412c-b165-36d856f8f723"
      },
      "source": [
        "# Посещаемость"
      ]
    },
    {
      "cell_type": "markdown",
      "id": "197daef1-54a8-459c-8d05-e6a44dfa4cc4",
      "metadata": {
        "id": "197daef1-54a8-459c-8d05-e6a44dfa4cc4"
      },
      "source": [
        "# Imports and connections"
      ]
    },
    {
      "cell_type": "code",
      "execution_count": 1,
      "id": "80f8e537-ebbc-4f0d-9012-97df781d5631",
      "metadata": {
        "id": "80f8e537-ebbc-4f0d-9012-97df781d5631"
      },
      "outputs": [],
      "source": [
        "import pandas as pd\n",
        "from getpass import getpass\n",
        "\n",
        "pd.options.display.float_format = '{:.6f}'.format\n",
        "pd.set_option(\"display.precision\", 3)"
      ]
    },
    {
      "cell_type": "code",
      "execution_count": null,
      "id": "45d9d5b6-ca14-41e5-937d-19370473f01b",
      "metadata": {
        "id": "45d9d5b6-ca14-41e5-937d-19370473f01b",
        "outputId": "fc1b4004-6516-4773-8d08-7689f373e594"
      },
      "outputs": [
        {
          "name": "stdin",
          "output_type": "stream",
          "text": [
            " ········\n"
          ]
        }
      ],
      "source": [
        "password = getpass()"
      ]
    },
    {
      "cell_type": "markdown",
      "id": "da26ba24-f564-4286-8e14-64fb6a7b07db",
      "metadata": {
        "id": "da26ba24-f564-4286-8e14-64fb6a7b07db"
      },
      "source": [
        "# Data load"
      ]
    },
    {
      "cell_type": "code",
      "source": [
        "df = pd.read_csv(\"\")\n",
        "df"
      ],
      "metadata": {
        "id": "PHP0ZEGLGOqc"
      },
      "id": "PHP0ZEGLGOqc",
      "execution_count": null,
      "outputs": []
    },
    {
      "cell_type": "markdown",
      "id": "05ce3be6-cbb3-4697-8571-a6864f61b5f1",
      "metadata": {
        "id": "05ce3be6-cbb3-4697-8571-a6864f61b5f1"
      },
      "source": [
        "# DA"
      ]
    },
    {
      "cell_type": "markdown",
      "id": "817658ad-b13d-4329-bab7-29f26e6f92d9",
      "metadata": {
        "id": "817658ad-b13d-4329-bab7-29f26e6f92d9"
      },
      "source": [
        "Описание колонок датасета должно быть здесь\n"
      ]
    },
    {
      "cell_type": "code",
      "execution_count": null,
      "id": "d1e7e0dc-9c04-4570-b61f-4c0ccc8450eb",
      "metadata": {
        "id": "d1e7e0dc-9c04-4570-b61f-4c0ccc8450eb"
      },
      "outputs": [],
      "source": []
    },
    {
      "cell_type": "markdown",
      "id": "575783eb-8abd-4507-b7a4-eb2448df632a",
      "metadata": {
        "id": "575783eb-8abd-4507-b7a4-eb2448df632a"
      },
      "source": [
        "# Models"
      ]
    },
    {
      "cell_type": "markdown",
      "id": "6ba830bb-79f3-4d01-8572-fcf85e5ebf74",
      "metadata": {
        "id": "6ba830bb-79f3-4d01-8572-fcf85e5ebf74"
      },
      "source": [
        "## Data preparing for training"
      ]
    },
    {
      "cell_type": "code",
      "source": [],
      "metadata": {
        "id": "jQywIyC7GnUP"
      },
      "id": "jQywIyC7GnUP",
      "execution_count": null,
      "outputs": []
    },
    {
      "cell_type": "markdown",
      "id": "77de9718-0627-4502-ab39-8bc0ab3ac5f2",
      "metadata": {
        "id": "77de9718-0627-4502-ab39-8bc0ab3ac5f2"
      },
      "source": [
        "## Linear models"
      ]
    },
    {
      "cell_type": "code",
      "execution_count": null,
      "id": "75c639d6-ecca-4335-aa4d-42bf72d51249",
      "metadata": {
        "id": "75c639d6-ecca-4335-aa4d-42bf72d51249"
      },
      "outputs": [],
      "source": []
    },
    {
      "cell_type": "markdown",
      "id": "31346b8c-446a-418d-8293-aed454cf9315",
      "metadata": {
        "id": "31346b8c-446a-418d-8293-aed454cf9315"
      },
      "source": [
        "## Decision tree"
      ]
    },
    {
      "cell_type": "code",
      "execution_count": null,
      "id": "455eb86d-4c86-4673-a89c-1c61e04cc9b5",
      "metadata": {
        "id": "455eb86d-4c86-4673-a89c-1c61e04cc9b5"
      },
      "outputs": [],
      "source": []
    },
    {
      "cell_type": "markdown",
      "id": "830900c8-bff2-4062-884c-f07fa8970593",
      "metadata": {
        "id": "830900c8-bff2-4062-884c-f07fa8970593"
      },
      "source": [
        "## Catboost"
      ]
    },
    {
      "cell_type": "code",
      "execution_count": null,
      "id": "1f5a1c59-9056-4212-84ff-7110f2d2e909",
      "metadata": {
        "id": "1f5a1c59-9056-4212-84ff-7110f2d2e909"
      },
      "outputs": [],
      "source": []
    },
    {
      "cell_type": "markdown",
      "id": "d5f0b22a-b53a-43c3-b66a-e5a6af5737f3",
      "metadata": {
        "id": "d5f0b22a-b53a-43c3-b66a-e5a6af5737f3"
      },
      "source": []
    },
    {
      "cell_type": "markdown",
      "id": "1884ee55-c244-4e1c-83a4-b926e9a7ff6a",
      "metadata": {
        "id": "1884ee55-c244-4e1c-83a4-b926e9a7ff6a"
      },
      "source": [
        "# Results"
      ]
    },
    {
      "cell_type": "code",
      "execution_count": null,
      "id": "761844cd-deb8-4829-9fc3-807518b82046",
      "metadata": {
        "id": "761844cd-deb8-4829-9fc3-807518b82046"
      },
      "outputs": [],
      "source": []
    }
  ],
  "metadata": {
    "kernelspec": {
      "display_name": "Python 3 (ipykernel)",
      "language": "python",
      "name": "python3"
    },
    "language_info": {
      "codemirror_mode": {
        "name": "ipython",
        "version": 3
      },
      "file_extension": ".py",
      "mimetype": "text/x-python",
      "name": "python",
      "nbconvert_exporter": "python",
      "pygments_lexer": "ipython3",
      "version": "3.12.6"
    },
    "colab": {
      "provenance": []
    }
  },
  "nbformat": 4,
  "nbformat_minor": 5
}